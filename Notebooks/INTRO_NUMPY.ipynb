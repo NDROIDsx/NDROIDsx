{
 "cells": [
  {
   "cell_type": "code",
   "execution_count": 1,
   "id": "39a43d81",
   "metadata": {},
   "outputs": [],
   "source": [
    "import numpy as np"
   ]
  },
  {
   "cell_type": "markdown",
   "id": "9b5589c9",
   "metadata": {},
   "source": [
    "###  Why numpy"
   ]
  },
  {
   "cell_type": "markdown",
   "id": "6baecc85",
   "metadata": {},
   "source": [
    "1. Its fast as its optimisation is written in c language.\n",
    "2. Backbone of other scientific packages\n",
    "3. It uses vectorisation using broadcasting ( avoiding loops )"
   ]
  },
  {
   "cell_type": "markdown",
   "id": "5145d8e2",
   "metadata": {},
   "source": [
    "### Datatypes & Attributes"
   ]
  },
  {
   "cell_type": "code",
   "execution_count": 2,
   "id": "2eaa62c9",
   "metadata": {},
   "outputs": [],
   "source": [
    "# Main datatype is ndarray where nd stands for n dimensional array"
   ]
  },
  {
   "cell_type": "code",
   "execution_count": 27,
   "id": "59fa1271",
   "metadata": {},
   "outputs": [
    {
     "data": {
      "text/plain": [
       "array([1, 2, 3, 4])"
      ]
     },
     "execution_count": 27,
     "metadata": {},
     "output_type": "execute_result"
    }
   ],
   "source": [
    "# Creating a numpy array \n",
    "\n",
    "a1 = np.array([1,2,3,4])\n",
    "a1"
   ]
  },
  {
   "cell_type": "code",
   "execution_count": 28,
   "id": "d52876a7",
   "metadata": {},
   "outputs": [
    {
     "data": {
      "text/plain": [
       "numpy.ndarray"
      ]
     },
     "execution_count": 28,
     "metadata": {},
     "output_type": "execute_result"
    }
   ],
   "source": [
    "type(a1)"
   ]
  },
  {
   "cell_type": "code",
   "execution_count": 8,
   "id": "3c5cb6b2",
   "metadata": {},
   "outputs": [],
   "source": [
    "a2 = np.array([[1,2,0.5] , [3,4,0.9]])"
   ]
  },
  {
   "cell_type": "code",
   "execution_count": 23,
   "id": "47594172",
   "metadata": {},
   "outputs": [],
   "source": [
    "a3 = np.array([[[1,2,3] , [4,5,6] ,[7,8,9]],\n",
    "              [[10,11,12] , [13,14,15] , [16,17,18]]])"
   ]
  },
  {
   "cell_type": "code",
   "execution_count": 11,
   "id": "42adf329",
   "metadata": {},
   "outputs": [
    {
     "data": {
      "text/plain": [
       "(4,)"
      ]
     },
     "execution_count": 11,
     "metadata": {},
     "output_type": "execute_result"
    }
   ],
   "source": [
    "# In 1-D shape is just number of elements in it\n",
    "a1.shape"
   ]
  },
  {
   "cell_type": "code",
   "execution_count": 12,
   "id": "b0b387f5",
   "metadata": {},
   "outputs": [
    {
     "data": {
      "text/plain": [
       "(2, 3)"
      ]
     },
     "execution_count": 12,
     "metadata": {},
     "output_type": "execute_result"
    }
   ],
   "source": [
    "# 2 rows 3 columns\n",
    "a2.shape"
   ]
  },
  {
   "cell_type": "code",
   "execution_count": 13,
   "id": "fdf8bbab",
   "metadata": {},
   "outputs": [
    {
     "data": {
      "text/plain": [
       "(2, 3, 3)"
      ]
     },
     "execution_count": 13,
     "metadata": {},
     "output_type": "execute_result"
    }
   ],
   "source": [
    "# axis 0 , axis 1 , axis n\n",
    "a3.shape"
   ]
  },
  {
   "cell_type": "code",
   "execution_count": 15,
   "id": "52bbe68d",
   "metadata": {},
   "outputs": [
    {
     "data": {
      "text/plain": [
       "(1, 2, 3)"
      ]
     },
     "execution_count": 15,
     "metadata": {},
     "output_type": "execute_result"
    }
   ],
   "source": [
    "# Simply gives the dimension of the array\n",
    "a1.ndim , a2.ndim , a3.ndim"
   ]
  },
  {
   "cell_type": "code",
   "execution_count": 17,
   "id": "ecccf361",
   "metadata": {},
   "outputs": [
    {
     "data": {
      "text/plain": [
       "(dtype('int32'), dtype('float64'), dtype('int32'))"
      ]
     },
     "execution_count": 17,
     "metadata": {},
     "output_type": "execute_result"
    }
   ],
   "source": [
    "a1.dtype , a2.dtype , a3.dtype"
   ]
  },
  {
   "cell_type": "code",
   "execution_count": 19,
   "id": "5475894a",
   "metadata": {},
   "outputs": [
    {
     "data": {
      "text/plain": [
       "(4, 6, 18)"
      ]
     },
     "execution_count": 19,
     "metadata": {},
     "output_type": "execute_result"
    }
   ],
   "source": [
    "# Number of elements in the array\n",
    "a1.size , a2.size , a3.size "
   ]
  },
  {
   "cell_type": "code",
   "execution_count": 20,
   "id": "3fb7c7b4",
   "metadata": {},
   "outputs": [],
   "source": [
    "# all the data in numpy array are ndarray no matter the type and shape of it "
   ]
  },
  {
   "cell_type": "code",
   "execution_count": 21,
   "id": "6b92c116",
   "metadata": {},
   "outputs": [],
   "source": [
    "import pandas as pd"
   ]
  },
  {
   "cell_type": "code",
   "execution_count": 22,
   "id": "14fa367e",
   "metadata": {},
   "outputs": [],
   "source": [
    "df = pd.DataFrame(a2)"
   ]
  },
  {
   "cell_type": "code",
   "execution_count": 23,
   "id": "eda7e482",
   "metadata": {},
   "outputs": [
    {
     "data": {
      "text/html": [
       "<div>\n",
       "<style scoped>\n",
       "    .dataframe tbody tr th:only-of-type {\n",
       "        vertical-align: middle;\n",
       "    }\n",
       "\n",
       "    .dataframe tbody tr th {\n",
       "        vertical-align: top;\n",
       "    }\n",
       "\n",
       "    .dataframe thead th {\n",
       "        text-align: right;\n",
       "    }\n",
       "</style>\n",
       "<table border=\"1\" class=\"dataframe\">\n",
       "  <thead>\n",
       "    <tr style=\"text-align: right;\">\n",
       "      <th></th>\n",
       "      <th>0</th>\n",
       "      <th>1</th>\n",
       "      <th>2</th>\n",
       "    </tr>\n",
       "  </thead>\n",
       "  <tbody>\n",
       "    <tr>\n",
       "      <th>0</th>\n",
       "      <td>1.0</td>\n",
       "      <td>2.0</td>\n",
       "      <td>0.5</td>\n",
       "    </tr>\n",
       "    <tr>\n",
       "      <th>1</th>\n",
       "      <td>3.0</td>\n",
       "      <td>4.0</td>\n",
       "      <td>0.9</td>\n",
       "    </tr>\n",
       "  </tbody>\n",
       "</table>\n",
       "</div>"
      ],
      "text/plain": [
       "     0    1    2\n",
       "0  1.0  2.0  0.5\n",
       "1  3.0  4.0  0.9"
      ]
     },
     "execution_count": 23,
     "metadata": {},
     "output_type": "execute_result"
    }
   ],
   "source": [
    "df"
   ]
  },
  {
   "cell_type": "code",
   "execution_count": 1,
   "id": "91cdd4e7",
   "metadata": {},
   "outputs": [],
   "source": [
    "# Creating arrays filled  with ones\n",
    "import numpy as np \n",
    "\n",
    "# Press shift tab to view the funtions doc string"
   ]
  },
  {
   "cell_type": "code",
   "execution_count": 2,
   "id": "69cc5422",
   "metadata": {},
   "outputs": [
    {
     "data": {
      "text/plain": [
       "array([[1., 1., 1.],\n",
       "       [1., 1., 1.],\n",
       "       [1., 1., 1.]])"
      ]
     },
     "execution_count": 2,
     "metadata": {},
     "output_type": "execute_result"
    }
   ],
   "source": [
    "one = np.ones((3,3))\n",
    "one"
   ]
  },
  {
   "cell_type": "code",
   "execution_count": 3,
   "id": "2d6bde37",
   "metadata": {},
   "outputs": [
    {
     "data": {
      "text/plain": [
       "array([[0., 0., 0.],\n",
       "       [0., 0., 0.],\n",
       "       [0., 0., 0.]])"
      ]
     },
     "execution_count": 3,
     "metadata": {},
     "output_type": "execute_result"
    }
   ],
   "source": [
    "zero = np.zeros((3,3))\n",
    "zero"
   ]
  },
  {
   "cell_type": "code",
   "execution_count": 6,
   "id": "ac1f68cd",
   "metadata": {},
   "outputs": [
    {
     "data": {
      "text/plain": [
       "array([0, 2, 4, 6, 8])"
      ]
     },
     "execution_count": 6,
     "metadata": {},
     "output_type": "execute_result"
    }
   ],
   "source": [
    "# Works as a array initialisation with given steps\n",
    "range_array = np.arange(0,10,2)\n",
    "range_array"
   ]
  },
  {
   "cell_type": "code",
   "execution_count": 9,
   "id": "27f6780e",
   "metadata": {},
   "outputs": [
    {
     "data": {
      "text/plain": [
       "array([[39, 70, 72],\n",
       "       [69, 12, 28]])"
      ]
     },
     "execution_count": 9,
     "metadata": {},
     "output_type": "execute_result"
    }
   ],
   "source": [
    "random_array = np.random.randint(2 , 92 , (2,3))\n",
    "random_array"
   ]
  },
  {
   "cell_type": "code",
   "execution_count": 10,
   "id": "054665bc",
   "metadata": {},
   "outputs": [
    {
     "data": {
      "text/plain": [
       "array([[82, 35, 49],\n",
       "       [52, 40, 28]])"
      ]
     },
     "execution_count": 10,
     "metadata": {},
     "output_type": "execute_result"
    }
   ],
   "source": [
    "random_array = np.random.randint(2 , 92 , size=(2,3))\n",
    "random_array"
   ]
  },
  {
   "cell_type": "code",
   "execution_count": 12,
   "id": "75311dd6",
   "metadata": {
    "scrolled": true
   },
   "outputs": [
    {
     "data": {
      "text/plain": [
       "array([[0.32865421, 0.36222694, 0.85698179],\n",
       "       [0.77119657, 0.98194476, 0.67763644],\n",
       "       [0.59670353, 0.60170352, 0.06417203]])"
      ]
     },
     "execution_count": 12,
     "metadata": {},
     "output_type": "execute_result"
    }
   ],
   "source": [
    "# Random floats\n",
    "\n",
    "random_array2 = np.random.random((3,3))\n",
    "random_array2"
   ]
  },
  {
   "cell_type": "code",
   "execution_count": 13,
   "id": "a633de98",
   "metadata": {
    "scrolled": true
   },
   "outputs": [
    {
     "data": {
      "text/plain": [
       "array([[0.29997028, 0.24360372, 0.37591907],\n",
       "       [0.35657553, 0.43968088, 0.80080601]])"
      ]
     },
     "execution_count": 13,
     "metadata": {},
     "output_type": "execute_result"
    }
   ],
   "source": [
    "random_array3 = np.random.rand(2,3)\n",
    "random_array3"
   ]
  },
  {
   "cell_type": "code",
   "execution_count": 14,
   "id": "9a76bb14",
   "metadata": {},
   "outputs": [],
   "source": [
    "# Pseudo random numbers"
   ]
  },
  {
   "cell_type": "code",
   "execution_count": 16,
   "id": "fb89a2cf",
   "metadata": {},
   "outputs": [
    {
     "data": {
      "text/plain": [
       "array([[5, 5, 2],\n",
       "       [2, 9, 6],\n",
       "       [8, 6, 7],\n",
       "       [9, 2, 0],\n",
       "       [2, 7, 1]])"
      ]
     },
     "execution_count": 16,
     "metadata": {},
     "output_type": "execute_result"
    }
   ],
   "source": [
    "# if only one number is given then it by default selects it as high\n",
    "random_array_4 = np.random.randint(10 , size = (5,3))\n",
    "random_array_4"
   ]
  },
  {
   "cell_type": "code",
   "execution_count": 23,
   "id": "b404d6e3",
   "metadata": {},
   "outputs": [
    {
     "data": {
      "text/plain": [
       "array([[8, 8, 6],\n",
       "       [2, 8, 7],\n",
       "       [2, 1, 5],\n",
       "       [4, 4, 5],\n",
       "       [7, 3, 6]])"
      ]
     },
     "execution_count": 23,
     "metadata": {},
     "output_type": "execute_result"
    }
   ],
   "source": [
    "np.random.seed(seed=2)\n",
    "random_array_5 = np.random.randint(10 , size = (5,3))\n",
    "random_array_5"
   ]
  },
  {
   "cell_type": "code",
   "execution_count": 24,
   "id": "4b908a06",
   "metadata": {},
   "outputs": [],
   "source": [
    "# Seed is used when we need to reproduce the random array in other computer else seed is set to random everytime it is called."
   ]
  },
  {
   "cell_type": "markdown",
   "id": "00b8a4e7",
   "metadata": {},
   "source": [
    "#### Viewing array and matrices"
   ]
  },
  {
   "cell_type": "code",
   "execution_count": 26,
   "id": "5a77768d",
   "metadata": {},
   "outputs": [
    {
     "data": {
      "text/plain": [
       "array([1, 2, 3, 4, 5, 6, 7, 8])"
      ]
     },
     "execution_count": 26,
     "metadata": {},
     "output_type": "execute_result"
    }
   ],
   "source": [
    "# Returns the unique element in the array\n",
    "np.unique(random_array_5)"
   ]
  },
  {
   "cell_type": "code",
   "execution_count": 31,
   "id": "2118fbf5",
   "metadata": {},
   "outputs": [
    {
     "data": {
      "text/plain": [
       "1"
      ]
     },
     "execution_count": 31,
     "metadata": {},
     "output_type": "execute_result"
    }
   ],
   "source": [
    "a1[0]"
   ]
  },
  {
   "cell_type": "code",
   "execution_count": 32,
   "id": "cf0a2347",
   "metadata": {},
   "outputs": [
    {
     "data": {
      "text/plain": [
       "array([3. , 4. , 0.9])"
      ]
     },
     "execution_count": 32,
     "metadata": {},
     "output_type": "execute_result"
    }
   ],
   "source": [
    "a2[1]"
   ]
  },
  {
   "cell_type": "code",
   "execution_count": 34,
   "id": "9446e343",
   "metadata": {},
   "outputs": [
    {
     "data": {
      "text/plain": [
       "array([[10, 11, 12],\n",
       "       [13, 14, 15],\n",
       "       [16, 17, 18]])"
      ]
     },
     "execution_count": 34,
     "metadata": {},
     "output_type": "execute_result"
    }
   ],
   "source": [
    "a3[1]"
   ]
  },
  {
   "cell_type": "code",
   "execution_count": 37,
   "id": "699b4a8e",
   "metadata": {},
   "outputs": [
    {
     "data": {
      "text/plain": [
       "(2, 3, 3)"
      ]
     },
     "execution_count": 37,
     "metadata": {},
     "output_type": "execute_result"
    }
   ],
   "source": [
    "# Slicing in an array\n",
    "\n",
    "# Taking out first two elements of each \n",
    "\n",
    "a3.shape"
   ]
  },
  {
   "cell_type": "code",
   "execution_count": 39,
   "id": "1ffb56fa",
   "metadata": {},
   "outputs": [
    {
     "data": {
      "text/plain": [
       "array([[[ 1,  2],\n",
       "        [ 4,  5]],\n",
       "\n",
       "       [[10, 11],\n",
       "        [13, 14]]])"
      ]
     },
     "execution_count": 39,
     "metadata": {},
     "output_type": "execute_result"
    }
   ],
   "source": [
    "a3[ :2 , :2 , :2 ]"
   ]
  },
  {
   "cell_type": "code",
   "execution_count": 41,
   "id": "8b0c7289",
   "metadata": {},
   "outputs": [
    {
     "data": {
      "text/plain": [
       "((2, 3, 4, 5), 4)"
      ]
     },
     "execution_count": 41,
     "metadata": {},
     "output_type": "execute_result"
    }
   ],
   "source": [
    "a4 = np.random.randint(10 , size =(2,3,4,5))\n",
    "a4.shape , a4.ndim"
   ]
  },
  {
   "cell_type": "code",
   "execution_count": 42,
   "id": "2a8b3246",
   "metadata": {},
   "outputs": [],
   "source": [
    "# Now numpy array is displayed in backward direction\n",
    "# <----------- Like this , From outside to inside"
   ]
  },
  {
   "cell_type": "code",
   "execution_count": 43,
   "id": "f4d8c78b",
   "metadata": {},
   "outputs": [
    {
     "data": {
      "text/plain": [
       "array([[[[4, 3, 7, 6, 1],\n",
       "         [3, 5, 8, 4, 6],\n",
       "         [3, 9, 2, 0, 4],\n",
       "         [2, 4, 1, 7, 8]],\n",
       "\n",
       "        [[2, 9, 8, 7, 1],\n",
       "         [6, 8, 5, 9, 9],\n",
       "         [9, 3, 0, 0, 2],\n",
       "         [8, 8, 2, 9, 6]],\n",
       "\n",
       "        [[5, 6, 6, 6, 3],\n",
       "         [8, 2, 1, 4, 8],\n",
       "         [1, 6, 9, 5, 1],\n",
       "         [2, 4, 7, 6, 4]]],\n",
       "\n",
       "\n",
       "       [[[5, 8, 3, 0, 0],\n",
       "         [5, 7, 5, 0, 8],\n",
       "         [6, 5, 1, 7, 4],\n",
       "         [3, 6, 1, 4, 0]],\n",
       "\n",
       "        [[8, 5, 4, 2, 9],\n",
       "         [7, 1, 9, 2, 1],\n",
       "         [0, 7, 1, 8, 9],\n",
       "         [0, 7, 0, 5, 2]],\n",
       "\n",
       "        [[5, 1, 3, 3, 1],\n",
       "         [8, 6, 8, 1, 5],\n",
       "         [7, 0, 9, 1, 5],\n",
       "         [9, 2, 0, 0, 4]]]])"
      ]
     },
     "execution_count": 43,
     "metadata": {},
     "output_type": "execute_result"
    }
   ],
   "source": [
    "a4"
   ]
  },
  {
   "cell_type": "code",
   "execution_count": 47,
   "id": "89c51769",
   "metadata": {},
   "outputs": [
    {
     "data": {
      "text/plain": [
       "array([[[[4, 3, 7, 6],\n",
       "         [3, 5, 8, 4],\n",
       "         [3, 9, 2, 0],\n",
       "         [2, 4, 1, 7]],\n",
       "\n",
       "        [[2, 9, 8, 7],\n",
       "         [6, 8, 5, 9],\n",
       "         [9, 3, 0, 0],\n",
       "         [8, 8, 2, 9]],\n",
       "\n",
       "        [[5, 6, 6, 6],\n",
       "         [8, 2, 1, 4],\n",
       "         [1, 6, 9, 5],\n",
       "         [2, 4, 7, 6]]],\n",
       "\n",
       "\n",
       "       [[[5, 8, 3, 0],\n",
       "         [5, 7, 5, 0],\n",
       "         [6, 5, 1, 7],\n",
       "         [3, 6, 1, 4]],\n",
       "\n",
       "        [[8, 5, 4, 2],\n",
       "         [7, 1, 9, 2],\n",
       "         [0, 7, 1, 8],\n",
       "         [0, 7, 0, 5]],\n",
       "\n",
       "        [[5, 1, 3, 3],\n",
       "         [8, 6, 8, 1],\n",
       "         [7, 0, 9, 1],\n",
       "         [9, 2, 0, 0]]]])"
      ]
     },
     "execution_count": 47,
     "metadata": {},
     "output_type": "execute_result"
    }
   ],
   "source": [
    "# Getting the first 4 elements of inner most array \n",
    "\n",
    "a4[: , : , : , :4]"
   ]
  },
  {
   "cell_type": "markdown",
   "id": "bb53cfb7",
   "metadata": {},
   "source": [
    "### Manipulating array"
   ]
  },
  {
   "cell_type": "markdown",
   "id": "bbdeb5d3",
   "metadata": {},
   "source": [
    "#### Arithmatic"
   ]
  },
  {
   "cell_type": "code",
   "execution_count": 48,
   "id": "cc742d6e",
   "metadata": {},
   "outputs": [
    {
     "data": {
      "text/plain": [
       "array([1, 2, 3, 4])"
      ]
     },
     "execution_count": 48,
     "metadata": {},
     "output_type": "execute_result"
    }
   ],
   "source": [
    "a1"
   ]
  },
  {
   "cell_type": "code",
   "execution_count": 51,
   "id": "5b53e7e7",
   "metadata": {},
   "outputs": [],
   "source": [
    "one = np.ones(4)"
   ]
  },
  {
   "cell_type": "code",
   "execution_count": 52,
   "id": "9bb04ce6",
   "metadata": {},
   "outputs": [
    {
     "data": {
      "text/plain": [
       "array([1., 1., 1., 1.])"
      ]
     },
     "execution_count": 52,
     "metadata": {},
     "output_type": "execute_result"
    }
   ],
   "source": [
    "one"
   ]
  },
  {
   "cell_type": "code",
   "execution_count": 53,
   "id": "40f5b5ed",
   "metadata": {},
   "outputs": [
    {
     "data": {
      "text/plain": [
       "array([2., 3., 4., 5.])"
      ]
     },
     "execution_count": 53,
     "metadata": {},
     "output_type": "execute_result"
    }
   ],
   "source": [
    "a1 + one"
   ]
  },
  {
   "cell_type": "code",
   "execution_count": 54,
   "id": "4748bab8",
   "metadata": {},
   "outputs": [
    {
     "data": {
      "text/plain": [
       "array([[[ 1,  2,  3],\n",
       "        [ 4,  5,  6],\n",
       "        [ 7,  8,  9]],\n",
       "\n",
       "       [[10, 11, 12],\n",
       "        [13, 14, 15],\n",
       "        [16, 17, 18]]])"
      ]
     },
     "execution_count": 54,
     "metadata": {},
     "output_type": "execute_result"
    }
   ],
   "source": [
    "a3"
   ]
  },
  {
   "cell_type": "code",
   "execution_count": 55,
   "id": "23a4c563",
   "metadata": {},
   "outputs": [
    {
     "data": {
      "text/plain": [
       "array([[1. , 2. , 0.5],\n",
       "       [3. , 4. , 0.9]])"
      ]
     },
     "execution_count": 55,
     "metadata": {},
     "output_type": "execute_result"
    }
   ],
   "source": [
    "a2"
   ]
  },
  {
   "cell_type": "code",
   "execution_count": 57,
   "id": "7a3e634b",
   "metadata": {},
   "outputs": [],
   "source": [
    "a1 = [1,2,3]"
   ]
  },
  {
   "cell_type": "code",
   "execution_count": 58,
   "id": "937cbbc1",
   "metadata": {},
   "outputs": [
    {
     "data": {
      "text/plain": [
       "array([[1. , 4. , 1.5],\n",
       "       [3. , 8. , 2.7]])"
      ]
     },
     "execution_count": 58,
     "metadata": {},
     "output_type": "execute_result"
    }
   ],
   "source": [
    "a1*a2"
   ]
  },
  {
   "cell_type": "code",
   "execution_count": 59,
   "id": "bd5e6d03",
   "metadata": {},
   "outputs": [],
   "source": [
    "# Smaller array is broadcasted around larger array to make comparble shapes of the array "
   ]
  },
  {
   "cell_type": "code",
   "execution_count": 62,
   "id": "2a69e5d7",
   "metadata": {},
   "outputs": [
    {
     "ename": "ValueError",
     "evalue": "operands could not be broadcast together with shapes (2,3,3) (2,3) ",
     "output_type": "error",
     "traceback": [
      "\u001b[1;31m---------------------------------------------------------------------------\u001b[0m",
      "\u001b[1;31mValueError\u001b[0m                                Traceback (most recent call last)",
      "\u001b[1;32m<ipython-input-62-8b782a413f1a>\u001b[0m in \u001b[0;36m<module>\u001b[1;34m\u001b[0m\n\u001b[1;32m----> 1\u001b[1;33m \u001b[0ma3\u001b[0m \u001b[1;33m*\u001b[0m \u001b[0ma2\u001b[0m\u001b[1;33m\u001b[0m\u001b[1;33m\u001b[0m\u001b[0m\n\u001b[0m",
      "\u001b[1;31mValueError\u001b[0m: operands could not be broadcast together with shapes (2,3,3) (2,3) "
     ]
    }
   ],
   "source": [
    "a3 * a2"
   ]
  },
  {
   "cell_type": "code",
   "execution_count": 66,
   "id": "4567a95e",
   "metadata": {},
   "outputs": [],
   "source": [
    "a2 = np.reshape(a2 , (2,3,1) , order='C')"
   ]
  },
  {
   "cell_type": "code",
   "execution_count": 67,
   "id": "5bf64ce3",
   "metadata": {},
   "outputs": [
    {
     "data": {
      "text/plain": [
       "array([[[ 1. ,  2. ,  3. ],\n",
       "        [ 8. , 10. , 12. ],\n",
       "        [ 3.5,  4. ,  4.5]],\n",
       "\n",
       "       [[30. , 33. , 36. ],\n",
       "        [52. , 56. , 60. ],\n",
       "        [14.4, 15.3, 16.2]]])"
      ]
     },
     "execution_count": 67,
     "metadata": {},
     "output_type": "execute_result"
    }
   ],
   "source": [
    "a3*a2"
   ]
  },
  {
   "cell_type": "code",
   "execution_count": 68,
   "id": "8f829624",
   "metadata": {},
   "outputs": [
    {
     "data": {
      "text/plain": [
       "array([[[1.        , 0.5       , 0.33333333],\n",
       "        [2.        , 1.        , 0.66666667],\n",
       "        [0.5       , 0.25      , 0.16666667]],\n",
       "\n",
       "       [[3.        , 1.5       , 1.        ],\n",
       "        [4.        , 2.        , 1.33333333],\n",
       "        [0.9       , 0.45      , 0.3       ]]])"
      ]
     },
     "execution_count": 68,
     "metadata": {},
     "output_type": "execute_result"
    }
   ],
   "source": [
    "a2 / a1"
   ]
  },
  {
   "cell_type": "code",
   "execution_count": 70,
   "id": "7e873aaa",
   "metadata": {},
   "outputs": [
    {
     "data": {
      "text/plain": [
       "array([[[1., 0., 0.],\n",
       "        [2., 1., 0.],\n",
       "        [0., 0., 0.]],\n",
       "\n",
       "       [[3., 1., 1.],\n",
       "        [4., 2., 1.],\n",
       "        [0., 0., 0.]]])"
      ]
     },
     "execution_count": 70,
     "metadata": {},
     "output_type": "execute_result"
    }
   ],
   "source": [
    "# Floor Division removes decimals ( kind of round off)\n",
    "a2 // a1"
   ]
  },
  {
   "cell_type": "code",
   "execution_count": 75,
   "id": "3008909d",
   "metadata": {},
   "outputs": [
    {
     "ename": "TypeError",
     "evalue": "unsupported operand type(s) for ** or pow(): 'list' and 'int'",
     "output_type": "error",
     "traceback": [
      "\u001b[1;31m---------------------------------------------------------------------------\u001b[0m",
      "\u001b[1;31mTypeError\u001b[0m                                 Traceback (most recent call last)",
      "\u001b[1;32m<ipython-input-75-6a1104b1009f>\u001b[0m in \u001b[0;36m<module>\u001b[1;34m\u001b[0m\n\u001b[0;32m      1\u001b[0m \u001b[1;31m# Power or square\u001b[0m\u001b[1;33m\u001b[0m\u001b[1;33m\u001b[0m\u001b[1;33m\u001b[0m\u001b[0m\n\u001b[1;32m----> 2\u001b[1;33m \u001b[0ma1\u001b[0m \u001b[1;33m**\u001b[0m \u001b[1;36m2\u001b[0m\u001b[1;33m\u001b[0m\u001b[1;33m\u001b[0m\u001b[0m\n\u001b[0m",
      "\u001b[1;31mTypeError\u001b[0m: unsupported operand type(s) for ** or pow(): 'list' and 'int'"
     ]
    }
   ],
   "source": [
    "# Power or square\n",
    "a1 ** 2"
   ]
  },
  {
   "cell_type": "code",
   "execution_count": 80,
   "id": "6706001b",
   "metadata": {},
   "outputs": [
    {
     "data": {
      "text/plain": [
       "array([[[ 1.  ],\n",
       "        [ 4.  ],\n",
       "        [ 0.25]],\n",
       "\n",
       "       [[ 9.  ],\n",
       "        [16.  ],\n",
       "        [ 0.81]]])"
      ]
     },
     "execution_count": 80,
     "metadata": {},
     "output_type": "execute_result"
    }
   ],
   "source": [
    "a2 ** 2"
   ]
  },
  {
   "cell_type": "code",
   "execution_count": 82,
   "id": "8fc78db1",
   "metadata": {},
   "outputs": [
    {
     "data": {
      "text/plain": [
       "array([[[ 1.  ],\n",
       "        [ 4.  ],\n",
       "        [ 0.25]],\n",
       "\n",
       "       [[ 9.  ],\n",
       "        [16.  ],\n",
       "        [ 0.81]]])"
      ]
     },
     "execution_count": 82,
     "metadata": {},
     "output_type": "execute_result"
    }
   ],
   "source": [
    "np.square(a2)"
   ]
  },
  {
   "cell_type": "code",
   "execution_count": 84,
   "id": "5381c268",
   "metadata": {},
   "outputs": [
    {
     "data": {
      "text/plain": [
       "array([[[2. , 3. , 4. ],\n",
       "        [3. , 4. , 5. ],\n",
       "        [1.5, 2.5, 3.5]],\n",
       "\n",
       "       [[4. , 5. , 6. ],\n",
       "        [5. , 6. , 7. ],\n",
       "        [1.9, 2.9, 3.9]]])"
      ]
     },
     "execution_count": 84,
     "metadata": {},
     "output_type": "execute_result"
    }
   ],
   "source": [
    "np.add(a1 , a2)"
   ]
  },
  {
   "cell_type": "code",
   "execution_count": 86,
   "id": "943b985f",
   "metadata": {},
   "outputs": [
    {
     "data": {
      "text/plain": [
       "array([[[0. , 1. , 1. ],\n",
       "        [0. , 0. , 2. ],\n",
       "        [0.5, 0.5, 0.5]],\n",
       "\n",
       "       [[0. , 1. , 0. ],\n",
       "        [0. , 0. , 1. ],\n",
       "        [0.9, 0.9, 0.9]]])"
      ]
     },
     "execution_count": 86,
     "metadata": {},
     "output_type": "execute_result"
    }
   ],
   "source": [
    "# Returns the element wise remainder similar to x % y\n",
    "np.mod(a2 , a1)"
   ]
  },
  {
   "cell_type": "markdown",
   "id": "4435c9a7",
   "metadata": {},
   "source": [
    "#### Aggregation "
   ]
  },
  {
   "cell_type": "markdown",
   "id": "3198543e",
   "metadata": {},
   "source": [
    "Performing same operation on number of things "
   ]
  },
  {
   "cell_type": "code",
   "execution_count": 2,
   "id": "d516c5f7",
   "metadata": {},
   "outputs": [],
   "source": [
    "a1 = np.array([1,2,3])"
   ]
  },
  {
   "cell_type": "code",
   "execution_count": 3,
   "id": "03933e1f",
   "metadata": {},
   "outputs": [
    {
     "data": {
      "text/plain": [
       "numpy.ndarray"
      ]
     },
     "execution_count": 3,
     "metadata": {},
     "output_type": "execute_result"
    }
   ],
   "source": [
    "type(a1)"
   ]
  },
  {
   "cell_type": "code",
   "execution_count": 4,
   "id": "2fa8ff19",
   "metadata": {},
   "outputs": [
    {
     "data": {
      "text/plain": [
       "6"
      ]
     },
     "execution_count": 4,
     "metadata": {},
     "output_type": "execute_result"
    }
   ],
   "source": [
    "sum(a1)"
   ]
  },
  {
   "cell_type": "code",
   "execution_count": 5,
   "id": "9f759f05",
   "metadata": {},
   "outputs": [
    {
     "data": {
      "text/plain": [
       "6"
      ]
     },
     "execution_count": 5,
     "metadata": {},
     "output_type": "execute_result"
    }
   ],
   "source": [
    "np.sum(a1)"
   ]
  },
  {
   "cell_type": "markdown",
   "id": "1cb9869d",
   "metadata": {},
   "source": [
    "IMPORTANT\n",
    "\n",
    "Use python operations such as (`sum()`) on python datatype\n",
    "\n",
    "Use numpy operations such as (`np.sum()`) on numpy datatype"
   ]
  },
  {
   "cell_type": "markdown",
   "id": "72caad37",
   "metadata": {},
   "source": [
    "##### Demonstrating the power of NUMPY"
   ]
  },
  {
   "cell_type": "code",
   "execution_count": 6,
   "id": "33a06fcd",
   "metadata": {},
   "outputs": [],
   "source": [
    "massive_array = np.random.random(10000)"
   ]
  },
  {
   "cell_type": "code",
   "execution_count": 7,
   "id": "0c7008c3",
   "metadata": {},
   "outputs": [
    {
     "name": "stdout",
     "output_type": "stream",
     "text": [
      "554 µs ± 8 µs per loop (mean ± std. dev. of 7 runs, 1000 loops each)\n",
      "6.02 µs ± 33.7 ns per loop (mean ± std. dev. of 7 runs, 100000 loops each)\n"
     ]
    }
   ],
   "source": [
    "## Using the magic function to see how much time it takes \n",
    "\n",
    "# Sum using python sum()\n",
    "\n",
    "%timeit sum(massive_array)\n",
    "\n",
    "# Sum using Numpy np.sum()\n",
    "\n",
    "%timeit np.sum(massive_array)"
   ]
  },
  {
   "cell_type": "code",
   "execution_count": 9,
   "id": "5169b7a7",
   "metadata": {},
   "outputs": [
    {
     "data": {
      "text/plain": [
       "1.9000000000000001"
      ]
     },
     "execution_count": 9,
     "metadata": {},
     "output_type": "execute_result"
    }
   ],
   "source": [
    "np.mean(a2)"
   ]
  },
  {
   "cell_type": "code",
   "execution_count": 17,
   "id": "06ef64ce",
   "metadata": {},
   "outputs": [
    {
     "data": {
      "text/plain": [
       "(4.0, 0.5, 1.2516655570345725, 1.5666666666666664)"
      ]
     },
     "execution_count": 17,
     "metadata": {},
     "output_type": "execute_result"
    }
   ],
   "source": [
    "# Variance ( var ) :- average measure of how different is a number from the mean\n",
    "# Standard Deviation :- how spread out the numbers are from the mean \n",
    "\n",
    "# Both are measure of spread of data \n",
    "\n",
    "# Std is basically ' Square Root ' of variance \n",
    "\n",
    "np.max(a2) , np.min(a2) , np.std(a2) , np.var(a2)"
   ]
  },
  {
   "cell_type": "markdown",
   "id": "c06f7967",
   "metadata": {},
   "source": [
    "#### Demonstration of Var & Std"
   ]
  },
  {
   "cell_type": "code",
   "execution_count": 18,
   "id": "eb7b3144",
   "metadata": {},
   "outputs": [],
   "source": [
    "high_var_array = np.array([1 , 100 , 200 , 3000 , 4500 , 7000])\n",
    "low_var_array = np.array([2,4,6,8,10])"
   ]
  },
  {
   "cell_type": "code",
   "execution_count": 19,
   "id": "31010ca7",
   "metadata": {},
   "outputs": [
    {
     "data": {
      "text/plain": [
       "6964733.472222221"
      ]
     },
     "execution_count": 19,
     "metadata": {},
     "output_type": "execute_result"
    }
   ],
   "source": [
    "np.var(high_var_array)"
   ]
  },
  {
   "cell_type": "code",
   "execution_count": 20,
   "id": "77b1233c",
   "metadata": {},
   "outputs": [
    {
     "data": {
      "text/plain": [
       "8.0"
      ]
     },
     "execution_count": 20,
     "metadata": {},
     "output_type": "execute_result"
    }
   ],
   "source": [
    "np.var(low_var_array)"
   ]
  },
  {
   "cell_type": "code",
   "execution_count": 21,
   "id": "aa1c2c4c",
   "metadata": {},
   "outputs": [],
   "source": [
    "# Higher var means higher range of number \n",
    "\n",
    "# Lower var means lower range of number"
   ]
  },
  {
   "cell_type": "markdown",
   "id": "acd5a261",
   "metadata": {},
   "source": [
    "####  Reshaping & Transposing a numpy array"
   ]
  },
  {
   "cell_type": "code",
   "execution_count": 22,
   "id": "cd91d1ac",
   "metadata": {},
   "outputs": [
    {
     "data": {
      "text/plain": [
       "((2, 3), 2, 6)"
      ]
     },
     "execution_count": 22,
     "metadata": {},
     "output_type": "execute_result"
    }
   ],
   "source": [
    "a2.shape , a2.ndim , a2.size"
   ]
  },
  {
   "cell_type": "code",
   "execution_count": 24,
   "id": "4d87ea42",
   "metadata": {},
   "outputs": [
    {
     "data": {
      "text/plain": [
       "((2, 3, 3), 3, 18)"
      ]
     },
     "execution_count": 24,
     "metadata": {},
     "output_type": "execute_result"
    }
   ],
   "source": [
    "a3.shape , a3.ndim , a3.size"
   ]
  },
  {
   "cell_type": "code",
   "execution_count": 25,
   "id": "833e3193",
   "metadata": {},
   "outputs": [
    {
     "ename": "ValueError",
     "evalue": "operands could not be broadcast together with shapes (2,3) (2,3,3) ",
     "output_type": "error",
     "traceback": [
      "\u001b[1;31m---------------------------------------------------------------------------\u001b[0m",
      "\u001b[1;31mValueError\u001b[0m                                Traceback (most recent call last)",
      "\u001b[1;32m<ipython-input-25-37d8620f1b2c>\u001b[0m in \u001b[0;36m<module>\u001b[1;34m\u001b[0m\n\u001b[1;32m----> 1\u001b[1;33m \u001b[0ma2\u001b[0m \u001b[1;33m*\u001b[0m \u001b[0ma3\u001b[0m\u001b[1;33m\u001b[0m\u001b[1;33m\u001b[0m\u001b[0m\n\u001b[0m",
      "\u001b[1;31mValueError\u001b[0m: operands could not be broadcast together with shapes (2,3) (2,3,3) "
     ]
    }
   ],
   "source": [
    "a2 * a3"
   ]
  },
  {
   "cell_type": "code",
   "execution_count": 28,
   "id": "73778d6e",
   "metadata": {},
   "outputs": [],
   "source": [
    "a2_reshape = a2.reshape((2,3,1))"
   ]
  },
  {
   "cell_type": "code",
   "execution_count": 29,
   "id": "ae39f72c",
   "metadata": {},
   "outputs": [
    {
     "data": {
      "text/plain": [
       "array([[[ 1. ,  2. ,  3. ],\n",
       "        [ 8. , 10. , 12. ],\n",
       "        [ 3.5,  4. ,  4.5]],\n",
       "\n",
       "       [[30. , 33. , 36. ],\n",
       "        [52. , 56. , 60. ],\n",
       "        [14.4, 15.3, 16.2]]])"
      ]
     },
     "execution_count": 29,
     "metadata": {},
     "output_type": "execute_result"
    }
   ],
   "source": [
    "a2_reshape * a3"
   ]
  },
  {
   "cell_type": "code",
   "execution_count": 34,
   "id": "94aeb6ad",
   "metadata": {},
   "outputs": [
    {
     "data": {
      "text/plain": [
       "array([[1. , 3. ],\n",
       "       [2. , 4. ],\n",
       "       [0.5, 0.9]])"
      ]
     },
     "execution_count": 34,
     "metadata": {},
     "output_type": "execute_result"
    }
   ],
   "source": [
    "# Transpose of an array \n",
    "# Changes the axis or ( Row <-> Column )\n",
    "\n",
    "a2.T"
   ]
  },
  {
   "cell_type": "code",
   "execution_count": 35,
   "id": "521dec93",
   "metadata": {},
   "outputs": [
    {
     "data": {
      "text/plain": [
       "array([[1. , 2. , 0.5],\n",
       "       [3. , 4. , 0.9]])"
      ]
     },
     "execution_count": 35,
     "metadata": {},
     "output_type": "execute_result"
    }
   ],
   "source": [
    "a2"
   ]
  },
  {
   "cell_type": "code",
   "execution_count": 36,
   "id": "9fe9beca",
   "metadata": {},
   "outputs": [],
   "source": [
    "a3_transpose = a3.T"
   ]
  },
  {
   "cell_type": "code",
   "execution_count": 38,
   "id": "fbed4d89",
   "metadata": {},
   "outputs": [
    {
     "data": {
      "text/plain": [
       "((3, 3, 2), (2, 3, 3))"
      ]
     },
     "execution_count": 38,
     "metadata": {},
     "output_type": "execute_result"
    }
   ],
   "source": [
    "a3_transpose.shape , a3.shape"
   ]
  },
  {
   "cell_type": "code",
   "execution_count": 39,
   "id": "c2374a09",
   "metadata": {},
   "outputs": [],
   "source": [
    "# So transposed basically reveresed the shape"
   ]
  },
  {
   "cell_type": "markdown",
   "id": "7f5724c4",
   "metadata": {},
   "source": [
    "###  Dot Product "
   ]
  },
  {
   "cell_type": "code",
   "execution_count": 3,
   "id": "72e7109c",
   "metadata": {},
   "outputs": [],
   "source": [
    "np.random.seed(0)\n",
    "\n",
    "mat1 = np.random.randint(10 , size=(5,3))\n",
    "mat2 = np.random.randint(10 , size=(5,3))"
   ]
  },
  {
   "cell_type": "code",
   "execution_count": 4,
   "id": "f2f9d8fd",
   "metadata": {},
   "outputs": [],
   "source": [
    "# Element wise multiplication"
   ]
  },
  {
   "cell_type": "code",
   "execution_count": 5,
   "id": "47ef0d18",
   "metadata": {},
   "outputs": [
    {
     "data": {
      "text/plain": [
       "array([[30,  0, 21],\n",
       "       [24,  7, 45],\n",
       "       [27, 40, 18],\n",
       "       [16, 21,  0],\n",
       "       [24, 40,  0]])"
      ]
     },
     "execution_count": 5,
     "metadata": {},
     "output_type": "execute_result"
    }
   ],
   "source": [
    "mat1 * mat2"
   ]
  },
  {
   "cell_type": "code",
   "execution_count": 6,
   "id": "92b010a0",
   "metadata": {},
   "outputs": [],
   "source": [
    "# Dot product is like matrix multiplication ( waterfall method)"
   ]
  },
  {
   "cell_type": "code",
   "execution_count": 7,
   "id": "5c086b76",
   "metadata": {},
   "outputs": [
    {
     "ename": "ValueError",
     "evalue": "shapes (5,3) and (5,3) not aligned: 3 (dim 1) != 5 (dim 0)",
     "output_type": "error",
     "traceback": [
      "\u001b[1;31m---------------------------------------------------------------------------\u001b[0m",
      "\u001b[1;31mValueError\u001b[0m                                Traceback (most recent call last)",
      "\u001b[1;32m<ipython-input-7-f6010a03b09f>\u001b[0m in \u001b[0;36m<module>\u001b[1;34m\u001b[0m\n\u001b[1;32m----> 1\u001b[1;33m \u001b[0mnp\u001b[0m\u001b[1;33m.\u001b[0m\u001b[0mdot\u001b[0m\u001b[1;33m(\u001b[0m\u001b[0mmat1\u001b[0m \u001b[1;33m,\u001b[0m \u001b[0mmat2\u001b[0m\u001b[1;33m)\u001b[0m\u001b[1;33m\u001b[0m\u001b[1;33m\u001b[0m\u001b[0m\n\u001b[0m",
      "\u001b[1;32m<__array_function__ internals>\u001b[0m in \u001b[0;36mdot\u001b[1;34m(*args, **kwargs)\u001b[0m\n",
      "\u001b[1;31mValueError\u001b[0m: shapes (5,3) and (5,3) not aligned: 3 (dim 1) != 5 (dim 0)"
     ]
    }
   ],
   "source": [
    "np.dot(mat1 , mat2)"
   ]
  },
  {
   "cell_type": "code",
   "execution_count": 8,
   "id": "971fea1e",
   "metadata": {},
   "outputs": [],
   "source": [
    "# Now to fix this lets see some rule for dot product \n",
    "\n",
    "# 5 x 3 <-------> 3 x 5\n",
    "\n",
    "# The inner numbers must match =>  3 = 3 in this case\n",
    "\n",
    "# The resultant matrix is of the order of outer numbers =>  5 x 5 in this case"
   ]
  },
  {
   "cell_type": "code",
   "execution_count": 9,
   "id": "ce1b2122",
   "metadata": {},
   "outputs": [
    {
     "data": {
      "text/plain": [
       "array([[6, 8, 9, 4, 3],\n",
       "       [7, 1, 8, 3, 5],\n",
       "       [7, 5, 9, 0, 0]])"
      ]
     },
     "execution_count": 9,
     "metadata": {},
     "output_type": "execute_result"
    }
   ],
   "source": [
    "mat2.T"
   ]
  },
  {
   "cell_type": "code",
   "execution_count": 10,
   "id": "92049490",
   "metadata": {},
   "outputs": [],
   "source": [
    "mat2_T = mat2.T"
   ]
  },
  {
   "cell_type": "code",
   "execution_count": 11,
   "id": "b9bca397",
   "metadata": {},
   "outputs": [
    {
     "data": {
      "text/plain": [
       "((3, 5), (5, 3))"
      ]
     },
     "execution_count": 11,
     "metadata": {},
     "output_type": "execute_result"
    }
   ],
   "source": [
    "mat2_T.shape , mat1.shape"
   ]
  },
  {
   "cell_type": "code",
   "execution_count": 12,
   "id": "858947d4",
   "metadata": {},
   "outputs": [
    {
     "data": {
      "text/plain": [
       "array([[ 51,  55,  72,  20,  15],\n",
       "       [130,  76, 164,  33,  44],\n",
       "       [ 67,  39,  85,  27,  34],\n",
       "       [115,  69, 146,  37,  47],\n",
       "       [111,  77, 145,  56,  64]])"
      ]
     },
     "execution_count": 12,
     "metadata": {},
     "output_type": "execute_result"
    }
   ],
   "source": [
    "mat3 = np.dot(mat1 , mat2_T)\n",
    "mat3"
   ]
  },
  {
   "cell_type": "code",
   "execution_count": 13,
   "id": "774176c4",
   "metadata": {},
   "outputs": [
    {
     "data": {
      "text/plain": [
       "(5, 5)"
      ]
     },
     "execution_count": 13,
     "metadata": {},
     "output_type": "execute_result"
    }
   ],
   "source": [
    "mat3.shape"
   ]
  },
  {
   "cell_type": "markdown",
   "id": "9e0a3ee3",
   "metadata": {},
   "source": [
    "## Practical Example of Dot product ( Via Nut-Butter-Sales )"
   ]
  },
  {
   "cell_type": "code",
   "execution_count": 14,
   "id": "a0f1f086",
   "metadata": {},
   "outputs": [],
   "source": [
    "import numpy as np\n",
    "import pandas as pd"
   ]
  },
  {
   "cell_type": "code",
   "execution_count": 54,
   "id": "3d32df8f",
   "metadata": {},
   "outputs": [
    {
     "data": {
      "text/plain": [
       "array([[12, 15,  0],\n",
       "       [ 3,  3,  7],\n",
       "       [ 9, 19, 18],\n",
       "       [ 4,  6, 12],\n",
       "       [ 1,  6,  7]])"
      ]
     },
     "execution_count": 54,
     "metadata": {},
     "output_type": "execute_result"
    }
   ],
   "source": [
    "np.random.seed(0)\n",
    "\n",
    "sales_amount = np.random.randint(20 , size=(5,3))\n",
    "sales_amount"
   ]
  },
  {
   "cell_type": "code",
   "execution_count": 55,
   "id": "28e8bd0c",
   "metadata": {},
   "outputs": [
    {
     "data": {
      "text/html": [
       "<div>\n",
       "<style scoped>\n",
       "    .dataframe tbody tr th:only-of-type {\n",
       "        vertical-align: middle;\n",
       "    }\n",
       "\n",
       "    .dataframe tbody tr th {\n",
       "        vertical-align: top;\n",
       "    }\n",
       "\n",
       "    .dataframe thead th {\n",
       "        text-align: right;\n",
       "    }\n",
       "</style>\n",
       "<table border=\"1\" class=\"dataframe\">\n",
       "  <thead>\n",
       "    <tr style=\"text-align: right;\">\n",
       "      <th></th>\n",
       "      <th>Almond Butter</th>\n",
       "      <th>Peanut Butter</th>\n",
       "      <th>Cashew Butter</th>\n",
       "    </tr>\n",
       "  </thead>\n",
       "  <tbody>\n",
       "    <tr>\n",
       "      <th>Mon</th>\n",
       "      <td>12</td>\n",
       "      <td>15</td>\n",
       "      <td>0</td>\n",
       "    </tr>\n",
       "    <tr>\n",
       "      <th>Tues</th>\n",
       "      <td>3</td>\n",
       "      <td>3</td>\n",
       "      <td>7</td>\n",
       "    </tr>\n",
       "    <tr>\n",
       "      <th>Wed</th>\n",
       "      <td>9</td>\n",
       "      <td>19</td>\n",
       "      <td>18</td>\n",
       "    </tr>\n",
       "    <tr>\n",
       "      <th>Thurs</th>\n",
       "      <td>4</td>\n",
       "      <td>6</td>\n",
       "      <td>12</td>\n",
       "    </tr>\n",
       "    <tr>\n",
       "      <th>Fri</th>\n",
       "      <td>1</td>\n",
       "      <td>6</td>\n",
       "      <td>7</td>\n",
       "    </tr>\n",
       "  </tbody>\n",
       "</table>\n",
       "</div>"
      ],
      "text/plain": [
       "       Almond Butter  Peanut Butter  Cashew Butter\n",
       "Mon               12             15              0\n",
       "Tues               3              3              7\n",
       "Wed                9             19             18\n",
       "Thurs              4              6             12\n",
       "Fri                1              6              7"
      ]
     },
     "execution_count": 55,
     "metadata": {},
     "output_type": "execute_result"
    }
   ],
   "source": [
    "sales = pd.DataFrame(sales_amount , index=[\"Mon\" , \"Tues\" , \"Wed\" , \"Thurs\" , \"Fri\"] , columns=[\"Almond Butter\" , \"Peanut Butter\" , \"Cashew Butter\"])\n",
    "sales"
   ]
  },
  {
   "cell_type": "code",
   "execution_count": 56,
   "id": "18fff098",
   "metadata": {},
   "outputs": [
    {
     "data": {
      "text/html": [
       "<div>\n",
       "<style scoped>\n",
       "    .dataframe tbody tr th:only-of-type {\n",
       "        vertical-align: middle;\n",
       "    }\n",
       "\n",
       "    .dataframe tbody tr th {\n",
       "        vertical-align: top;\n",
       "    }\n",
       "\n",
       "    .dataframe thead th {\n",
       "        text-align: right;\n",
       "    }\n",
       "</style>\n",
       "<table border=\"1\" class=\"dataframe\">\n",
       "  <thead>\n",
       "    <tr style=\"text-align: right;\">\n",
       "      <th></th>\n",
       "      <th>Almond Butter</th>\n",
       "      <th>Peanut Butter</th>\n",
       "      <th>Cashew Butter</th>\n",
       "    </tr>\n",
       "  </thead>\n",
       "  <tbody>\n",
       "    <tr>\n",
       "      <th>Mon</th>\n",
       "      <td>12</td>\n",
       "      <td>15</td>\n",
       "      <td>0</td>\n",
       "    </tr>\n",
       "    <tr>\n",
       "      <th>Tues</th>\n",
       "      <td>3</td>\n",
       "      <td>3</td>\n",
       "      <td>7</td>\n",
       "    </tr>\n",
       "    <tr>\n",
       "      <th>Wed</th>\n",
       "      <td>9</td>\n",
       "      <td>19</td>\n",
       "      <td>18</td>\n",
       "    </tr>\n",
       "    <tr>\n",
       "      <th>Thurs</th>\n",
       "      <td>4</td>\n",
       "      <td>6</td>\n",
       "      <td>12</td>\n",
       "    </tr>\n",
       "    <tr>\n",
       "      <th>Fri</th>\n",
       "      <td>1</td>\n",
       "      <td>6</td>\n",
       "      <td>7</td>\n",
       "    </tr>\n",
       "  </tbody>\n",
       "</table>\n",
       "</div>"
      ],
      "text/plain": [
       "       Almond Butter  Peanut Butter  Cashew Butter\n",
       "Mon               12             15              0\n",
       "Tues               3              3              7\n",
       "Wed                9             19             18\n",
       "Thurs              4              6             12\n",
       "Fri                1              6              7"
      ]
     },
     "execution_count": 56,
     "metadata": {},
     "output_type": "execute_result"
    }
   ],
   "source": [
    "sales_daily = pd.DataFrame(sales_amount , index=[\"Mon\" , \"Tues\" , \"Wed\" , \"Thurs\" , \"Fri\"] , columns=[\"Almond Butter\" , \"Peanut Butter\" , \"Cashew Butter\"])\n",
    "sales_daily"
   ]
  },
  {
   "cell_type": "code",
   "execution_count": 57,
   "id": "bd9f9195",
   "metadata": {},
   "outputs": [
    {
     "data": {
      "text/plain": [
       "array([10,  8, 12])"
      ]
     },
     "execution_count": 57,
     "metadata": {},
     "output_type": "execute_result"
    }
   ],
   "source": [
    "prices = np.array([10,8,12])\n",
    "prices"
   ]
  },
  {
   "cell_type": "code",
   "execution_count": 58,
   "id": "1282e13d",
   "metadata": {},
   "outputs": [
    {
     "ename": "ValueError",
     "evalue": "Shape of passed values is (3, 1), indices imply (1, 3)",
     "output_type": "error",
     "traceback": [
      "\u001b[1;31m---------------------------------------------------------------------------\u001b[0m",
      "\u001b[1;31mValueError\u001b[0m                                Traceback (most recent call last)",
      "\u001b[1;32m~\\Desktop\\DSC\\env\\lib\\site-packages\\pandas\\core\\internals\\managers.py\u001b[0m in \u001b[0;36mcreate_block_manager_from_blocks\u001b[1;34m(blocks, axes)\u001b[0m\n\u001b[0;32m   1674\u001b[0m                 blocks = [\n\u001b[1;32m-> 1675\u001b[1;33m                     make_block(\n\u001b[0m\u001b[0;32m   1676\u001b[0m                         \u001b[0mvalues\u001b[0m\u001b[1;33m=\u001b[0m\u001b[0mblocks\u001b[0m\u001b[1;33m[\u001b[0m\u001b[1;36m0\u001b[0m\u001b[1;33m]\u001b[0m\u001b[1;33m,\u001b[0m \u001b[0mplacement\u001b[0m\u001b[1;33m=\u001b[0m\u001b[0mslice\u001b[0m\u001b[1;33m(\u001b[0m\u001b[1;36m0\u001b[0m\u001b[1;33m,\u001b[0m \u001b[0mlen\u001b[0m\u001b[1;33m(\u001b[0m\u001b[0maxes\u001b[0m\u001b[1;33m[\u001b[0m\u001b[1;36m0\u001b[0m\u001b[1;33m]\u001b[0m\u001b[1;33m)\u001b[0m\u001b[1;33m)\u001b[0m\u001b[1;33m,\u001b[0m \u001b[0mndim\u001b[0m\u001b[1;33m=\u001b[0m\u001b[1;36m2\u001b[0m\u001b[1;33m\u001b[0m\u001b[1;33m\u001b[0m\u001b[0m\n",
      "\u001b[1;32m~\\Desktop\\DSC\\env\\lib\\site-packages\\pandas\\core\\internals\\blocks.py\u001b[0m in \u001b[0;36mmake_block\u001b[1;34m(values, placement, klass, ndim, dtype)\u001b[0m\n\u001b[0;32m   2750\u001b[0m \u001b[1;33m\u001b[0m\u001b[0m\n\u001b[1;32m-> 2751\u001b[1;33m     \u001b[1;32mreturn\u001b[0m \u001b[0mklass\u001b[0m\u001b[1;33m(\u001b[0m\u001b[0mvalues\u001b[0m\u001b[1;33m,\u001b[0m \u001b[0mndim\u001b[0m\u001b[1;33m=\u001b[0m\u001b[0mndim\u001b[0m\u001b[1;33m,\u001b[0m \u001b[0mplacement\u001b[0m\u001b[1;33m=\u001b[0m\u001b[0mplacement\u001b[0m\u001b[1;33m)\u001b[0m\u001b[1;33m\u001b[0m\u001b[1;33m\u001b[0m\u001b[0m\n\u001b[0m\u001b[0;32m   2752\u001b[0m \u001b[1;33m\u001b[0m\u001b[0m\n",
      "\u001b[1;32m~\\Desktop\\DSC\\env\\lib\\site-packages\\pandas\\core\\internals\\blocks.py\u001b[0m in \u001b[0;36m__init__\u001b[1;34m(self, values, placement, ndim)\u001b[0m\n\u001b[0;32m    141\u001b[0m         \u001b[1;32mif\u001b[0m \u001b[0mself\u001b[0m\u001b[1;33m.\u001b[0m\u001b[0m_validate_ndim\u001b[0m \u001b[1;32mand\u001b[0m \u001b[0mself\u001b[0m\u001b[1;33m.\u001b[0m\u001b[0mndim\u001b[0m \u001b[1;32mand\u001b[0m \u001b[0mlen\u001b[0m\u001b[1;33m(\u001b[0m\u001b[0mself\u001b[0m\u001b[1;33m.\u001b[0m\u001b[0mmgr_locs\u001b[0m\u001b[1;33m)\u001b[0m \u001b[1;33m!=\u001b[0m \u001b[0mlen\u001b[0m\u001b[1;33m(\u001b[0m\u001b[0mself\u001b[0m\u001b[1;33m.\u001b[0m\u001b[0mvalues\u001b[0m\u001b[1;33m)\u001b[0m\u001b[1;33m:\u001b[0m\u001b[1;33m\u001b[0m\u001b[1;33m\u001b[0m\u001b[0m\n\u001b[1;32m--> 142\u001b[1;33m             raise ValueError(\n\u001b[0m\u001b[0;32m    143\u001b[0m                 \u001b[1;34mf\"Wrong number of items passed {len(self.values)}, \"\u001b[0m\u001b[1;33m\u001b[0m\u001b[1;33m\u001b[0m\u001b[0m\n",
      "\u001b[1;31mValueError\u001b[0m: Wrong number of items passed 1, placement implies 3",
      "\nDuring handling of the above exception, another exception occurred:\n",
      "\u001b[1;31mValueError\u001b[0m                                Traceback (most recent call last)",
      "\u001b[1;32m<ipython-input-58-18f87ca84c04>\u001b[0m in \u001b[0;36m<module>\u001b[1;34m\u001b[0m\n\u001b[1;32m----> 1\u001b[1;33m \u001b[0mJar_prices\u001b[0m \u001b[1;33m=\u001b[0m \u001b[0mpd\u001b[0m\u001b[1;33m.\u001b[0m\u001b[0mDataFrame\u001b[0m\u001b[1;33m(\u001b[0m\u001b[0mprices\u001b[0m \u001b[1;33m,\u001b[0m \u001b[0mindex\u001b[0m\u001b[1;33m=\u001b[0m\u001b[1;33m[\u001b[0m\u001b[1;34m\"Prices\"\u001b[0m\u001b[1;33m]\u001b[0m\u001b[1;33m,\u001b[0m \u001b[0mcolumns\u001b[0m\u001b[1;33m=\u001b[0m\u001b[1;33m[\u001b[0m\u001b[1;34m\"Almond Butter\"\u001b[0m \u001b[1;33m,\u001b[0m \u001b[1;34m\"Peanut Butter\"\u001b[0m \u001b[1;33m,\u001b[0m \u001b[1;34m\"Cashew Butter\"\u001b[0m\u001b[1;33m]\u001b[0m\u001b[1;33m)\u001b[0m\u001b[1;33m\u001b[0m\u001b[1;33m\u001b[0m\u001b[0m\n\u001b[0m\u001b[0;32m      2\u001b[0m \u001b[0mJar_prices\u001b[0m\u001b[1;33m\u001b[0m\u001b[1;33m\u001b[0m\u001b[0m\n",
      "\u001b[1;32m~\\Desktop\\DSC\\env\\lib\\site-packages\\pandas\\core\\frame.py\u001b[0m in \u001b[0;36m__init__\u001b[1;34m(self, data, index, columns, dtype, copy)\u001b[0m\n\u001b[0;32m    556\u001b[0m                 \u001b[0mmgr\u001b[0m \u001b[1;33m=\u001b[0m \u001b[0minit_dict\u001b[0m\u001b[1;33m(\u001b[0m\u001b[1;33m{\u001b[0m\u001b[0mdata\u001b[0m\u001b[1;33m.\u001b[0m\u001b[0mname\u001b[0m\u001b[1;33m:\u001b[0m \u001b[0mdata\u001b[0m\u001b[1;33m}\u001b[0m\u001b[1;33m,\u001b[0m \u001b[0mindex\u001b[0m\u001b[1;33m,\u001b[0m \u001b[0mcolumns\u001b[0m\u001b[1;33m,\u001b[0m \u001b[0mdtype\u001b[0m\u001b[1;33m=\u001b[0m\u001b[0mdtype\u001b[0m\u001b[1;33m)\u001b[0m\u001b[1;33m\u001b[0m\u001b[1;33m\u001b[0m\u001b[0m\n\u001b[0;32m    557\u001b[0m             \u001b[1;32melse\u001b[0m\u001b[1;33m:\u001b[0m\u001b[1;33m\u001b[0m\u001b[1;33m\u001b[0m\u001b[0m\n\u001b[1;32m--> 558\u001b[1;33m                 \u001b[0mmgr\u001b[0m \u001b[1;33m=\u001b[0m \u001b[0minit_ndarray\u001b[0m\u001b[1;33m(\u001b[0m\u001b[0mdata\u001b[0m\u001b[1;33m,\u001b[0m \u001b[0mindex\u001b[0m\u001b[1;33m,\u001b[0m \u001b[0mcolumns\u001b[0m\u001b[1;33m,\u001b[0m \u001b[0mdtype\u001b[0m\u001b[1;33m=\u001b[0m\u001b[0mdtype\u001b[0m\u001b[1;33m,\u001b[0m \u001b[0mcopy\u001b[0m\u001b[1;33m=\u001b[0m\u001b[0mcopy\u001b[0m\u001b[1;33m)\u001b[0m\u001b[1;33m\u001b[0m\u001b[1;33m\u001b[0m\u001b[0m\n\u001b[0m\u001b[0;32m    559\u001b[0m \u001b[1;33m\u001b[0m\u001b[0m\n\u001b[0;32m    560\u001b[0m         \u001b[1;31m# For data is list-like, or Iterable (will consume into list)\u001b[0m\u001b[1;33m\u001b[0m\u001b[1;33m\u001b[0m\u001b[1;33m\u001b[0m\u001b[0m\n",
      "\u001b[1;32m~\\Desktop\\DSC\\env\\lib\\site-packages\\pandas\\core\\internals\\construction.py\u001b[0m in \u001b[0;36minit_ndarray\u001b[1;34m(values, index, columns, dtype, copy)\u001b[0m\n\u001b[0;32m    236\u001b[0m         \u001b[0mblock_values\u001b[0m \u001b[1;33m=\u001b[0m \u001b[1;33m[\u001b[0m\u001b[0mvalues\u001b[0m\u001b[1;33m]\u001b[0m\u001b[1;33m\u001b[0m\u001b[1;33m\u001b[0m\u001b[0m\n\u001b[0;32m    237\u001b[0m \u001b[1;33m\u001b[0m\u001b[0m\n\u001b[1;32m--> 238\u001b[1;33m     \u001b[1;32mreturn\u001b[0m \u001b[0mcreate_block_manager_from_blocks\u001b[0m\u001b[1;33m(\u001b[0m\u001b[0mblock_values\u001b[0m\u001b[1;33m,\u001b[0m \u001b[1;33m[\u001b[0m\u001b[0mcolumns\u001b[0m\u001b[1;33m,\u001b[0m \u001b[0mindex\u001b[0m\u001b[1;33m]\u001b[0m\u001b[1;33m)\u001b[0m\u001b[1;33m\u001b[0m\u001b[1;33m\u001b[0m\u001b[0m\n\u001b[0m\u001b[0;32m    239\u001b[0m \u001b[1;33m\u001b[0m\u001b[0m\n\u001b[0;32m    240\u001b[0m \u001b[1;33m\u001b[0m\u001b[0m\n",
      "\u001b[1;32m~\\Desktop\\DSC\\env\\lib\\site-packages\\pandas\\core\\internals\\managers.py\u001b[0m in \u001b[0;36mcreate_block_manager_from_blocks\u001b[1;34m(blocks, axes)\u001b[0m\n\u001b[0;32m   1685\u001b[0m         \u001b[0mblocks\u001b[0m \u001b[1;33m=\u001b[0m \u001b[1;33m[\u001b[0m\u001b[0mgetattr\u001b[0m\u001b[1;33m(\u001b[0m\u001b[0mb\u001b[0m\u001b[1;33m,\u001b[0m \u001b[1;34m\"values\"\u001b[0m\u001b[1;33m,\u001b[0m \u001b[0mb\u001b[0m\u001b[1;33m)\u001b[0m \u001b[1;32mfor\u001b[0m \u001b[0mb\u001b[0m \u001b[1;32min\u001b[0m \u001b[0mblocks\u001b[0m\u001b[1;33m]\u001b[0m\u001b[1;33m\u001b[0m\u001b[1;33m\u001b[0m\u001b[0m\n\u001b[0;32m   1686\u001b[0m         \u001b[0mtot_items\u001b[0m \u001b[1;33m=\u001b[0m \u001b[0msum\u001b[0m\u001b[1;33m(\u001b[0m\u001b[0mb\u001b[0m\u001b[1;33m.\u001b[0m\u001b[0mshape\u001b[0m\u001b[1;33m[\u001b[0m\u001b[1;36m0\u001b[0m\u001b[1;33m]\u001b[0m \u001b[1;32mfor\u001b[0m \u001b[0mb\u001b[0m \u001b[1;32min\u001b[0m \u001b[0mblocks\u001b[0m\u001b[1;33m)\u001b[0m\u001b[1;33m\u001b[0m\u001b[1;33m\u001b[0m\u001b[0m\n\u001b[1;32m-> 1687\u001b[1;33m         \u001b[1;32mraise\u001b[0m \u001b[0mconstruction_error\u001b[0m\u001b[1;33m(\u001b[0m\u001b[0mtot_items\u001b[0m\u001b[1;33m,\u001b[0m \u001b[0mblocks\u001b[0m\u001b[1;33m[\u001b[0m\u001b[1;36m0\u001b[0m\u001b[1;33m]\u001b[0m\u001b[1;33m.\u001b[0m\u001b[0mshape\u001b[0m\u001b[1;33m[\u001b[0m\u001b[1;36m1\u001b[0m\u001b[1;33m:\u001b[0m\u001b[1;33m]\u001b[0m\u001b[1;33m,\u001b[0m \u001b[0maxes\u001b[0m\u001b[1;33m,\u001b[0m \u001b[0me\u001b[0m\u001b[1;33m)\u001b[0m\u001b[1;33m\u001b[0m\u001b[1;33m\u001b[0m\u001b[0m\n\u001b[0m\u001b[0;32m   1688\u001b[0m \u001b[1;33m\u001b[0m\u001b[0m\n\u001b[0;32m   1689\u001b[0m \u001b[1;33m\u001b[0m\u001b[0m\n",
      "\u001b[1;31mValueError\u001b[0m: Shape of passed values is (3, 1), indices imply (1, 3)"
     ]
    }
   ],
   "source": [
    "Jar_prices = pd.DataFrame(prices , index=[\"Prices\"], columns=[\"Almond Butter\" , \"Peanut Butter\" , \"Cashew Butter\"])\n",
    "Jar_prices"
   ]
  },
  {
   "cell_type": "code",
   "execution_count": 59,
   "id": "8f9fb76e",
   "metadata": {},
   "outputs": [
    {
     "data": {
      "text/plain": [
       "(3,)"
      ]
     },
     "execution_count": 59,
     "metadata": {},
     "output_type": "execute_result"
    }
   ],
   "source": [
    "prices.shape"
   ]
  },
  {
   "cell_type": "code",
   "execution_count": 60,
   "id": "218b170f",
   "metadata": {},
   "outputs": [],
   "source": [
    "prices = prices.reshape((1,3))"
   ]
  },
  {
   "cell_type": "code",
   "execution_count": 61,
   "id": "15fadc79",
   "metadata": {},
   "outputs": [
    {
     "data": {
      "text/html": [
       "<div>\n",
       "<style scoped>\n",
       "    .dataframe tbody tr th:only-of-type {\n",
       "        vertical-align: middle;\n",
       "    }\n",
       "\n",
       "    .dataframe tbody tr th {\n",
       "        vertical-align: top;\n",
       "    }\n",
       "\n",
       "    .dataframe thead th {\n",
       "        text-align: right;\n",
       "    }\n",
       "</style>\n",
       "<table border=\"1\" class=\"dataframe\">\n",
       "  <thead>\n",
       "    <tr style=\"text-align: right;\">\n",
       "      <th></th>\n",
       "      <th>Almond Butter</th>\n",
       "      <th>Peanut Butter</th>\n",
       "      <th>Cashew Butter</th>\n",
       "    </tr>\n",
       "  </thead>\n",
       "  <tbody>\n",
       "    <tr>\n",
       "      <th>Prices</th>\n",
       "      <td>10</td>\n",
       "      <td>8</td>\n",
       "      <td>12</td>\n",
       "    </tr>\n",
       "  </tbody>\n",
       "</table>\n",
       "</div>"
      ],
      "text/plain": [
       "        Almond Butter  Peanut Butter  Cashew Butter\n",
       "Prices             10              8             12"
      ]
     },
     "execution_count": 61,
     "metadata": {},
     "output_type": "execute_result"
    }
   ],
   "source": [
    "Jar_prices = pd.DataFrame(prices , index=[\"Prices\"], columns=[\"Almond Butter\" , \"Peanut Butter\" , \"Cashew Butter\"])\n",
    "Jar_prices"
   ]
  },
  {
   "cell_type": "code",
   "execution_count": 62,
   "id": "56c6c587",
   "metadata": {},
   "outputs": [
    {
     "data": {
      "text/html": [
       "<div>\n",
       "<style scoped>\n",
       "    .dataframe tbody tr th:only-of-type {\n",
       "        vertical-align: middle;\n",
       "    }\n",
       "\n",
       "    .dataframe tbody tr th {\n",
       "        vertical-align: top;\n",
       "    }\n",
       "\n",
       "    .dataframe thead th {\n",
       "        text-align: right;\n",
       "    }\n",
       "</style>\n",
       "<table border=\"1\" class=\"dataframe\">\n",
       "  <thead>\n",
       "    <tr style=\"text-align: right;\">\n",
       "      <th></th>\n",
       "      <th>Almond Butter</th>\n",
       "      <th>Peanut Butter</th>\n",
       "      <th>Cashew Butter</th>\n",
       "      <th>Total Sales</th>\n",
       "    </tr>\n",
       "  </thead>\n",
       "  <tbody>\n",
       "    <tr>\n",
       "      <th>Mon</th>\n",
       "      <td>12</td>\n",
       "      <td>15</td>\n",
       "      <td>0</td>\n",
       "      <td>240</td>\n",
       "    </tr>\n",
       "    <tr>\n",
       "      <th>Tues</th>\n",
       "      <td>3</td>\n",
       "      <td>3</td>\n",
       "      <td>7</td>\n",
       "      <td>138</td>\n",
       "    </tr>\n",
       "    <tr>\n",
       "      <th>Wed</th>\n",
       "      <td>9</td>\n",
       "      <td>19</td>\n",
       "      <td>18</td>\n",
       "      <td>458</td>\n",
       "    </tr>\n",
       "    <tr>\n",
       "      <th>Thurs</th>\n",
       "      <td>4</td>\n",
       "      <td>6</td>\n",
       "      <td>12</td>\n",
       "      <td>232</td>\n",
       "    </tr>\n",
       "    <tr>\n",
       "      <th>Fri</th>\n",
       "      <td>1</td>\n",
       "      <td>6</td>\n",
       "      <td>7</td>\n",
       "      <td>142</td>\n",
       "    </tr>\n",
       "  </tbody>\n",
       "</table>\n",
       "</div>"
      ],
      "text/plain": [
       "       Almond Butter  Peanut Butter  Cashew Butter  Total Sales\n",
       "Mon               12             15              0          240\n",
       "Tues               3              3              7          138\n",
       "Wed                9             19             18          458\n",
       "Thurs              4              6             12          232\n",
       "Fri                1              6              7          142"
      ]
     },
     "execution_count": 62,
     "metadata": {},
     "output_type": "execute_result"
    }
   ],
   "source": [
    "sales_daily[\"Total Sales\"] = np.dot(sales_amount , prices.T)\n",
    "sales_daily"
   ]
  },
  {
   "cell_type": "code",
   "execution_count": 63,
   "id": "0f25e265",
   "metadata": {},
   "outputs": [],
   "source": [
    "# Another way "
   ]
  },
  {
   "cell_type": "code",
   "execution_count": 64,
   "id": "e760d2cf",
   "metadata": {},
   "outputs": [
    {
     "data": {
      "text/plain": [
       "((1, 3), (5, 3))"
      ]
     },
     "execution_count": 64,
     "metadata": {},
     "output_type": "execute_result"
    }
   ],
   "source": [
    "Jar_prices.shape , sales.shape"
   ]
  },
  {
   "cell_type": "code",
   "execution_count": 66,
   "id": "36764998",
   "metadata": {},
   "outputs": [],
   "source": [
    "daily_sales = Jar_prices.dot(sales.T)"
   ]
  },
  {
   "cell_type": "code",
   "execution_count": 67,
   "id": "70197aad",
   "metadata": {},
   "outputs": [
    {
     "data": {
      "text/html": [
       "<div>\n",
       "<style scoped>\n",
       "    .dataframe tbody tr th:only-of-type {\n",
       "        vertical-align: middle;\n",
       "    }\n",
       "\n",
       "    .dataframe tbody tr th {\n",
       "        vertical-align: top;\n",
       "    }\n",
       "\n",
       "    .dataframe thead th {\n",
       "        text-align: right;\n",
       "    }\n",
       "</style>\n",
       "<table border=\"1\" class=\"dataframe\">\n",
       "  <thead>\n",
       "    <tr style=\"text-align: right;\">\n",
       "      <th></th>\n",
       "      <th>Almond Butter</th>\n",
       "      <th>Peanut Butter</th>\n",
       "      <th>Cashew Butter</th>\n",
       "      <th>Total ($)</th>\n",
       "    </tr>\n",
       "  </thead>\n",
       "  <tbody>\n",
       "    <tr>\n",
       "      <th>Mon</th>\n",
       "      <td>12</td>\n",
       "      <td>15</td>\n",
       "      <td>0</td>\n",
       "      <td>240</td>\n",
       "    </tr>\n",
       "    <tr>\n",
       "      <th>Tues</th>\n",
       "      <td>3</td>\n",
       "      <td>3</td>\n",
       "      <td>7</td>\n",
       "      <td>138</td>\n",
       "    </tr>\n",
       "    <tr>\n",
       "      <th>Wed</th>\n",
       "      <td>9</td>\n",
       "      <td>19</td>\n",
       "      <td>18</td>\n",
       "      <td>458</td>\n",
       "    </tr>\n",
       "    <tr>\n",
       "      <th>Thurs</th>\n",
       "      <td>4</td>\n",
       "      <td>6</td>\n",
       "      <td>12</td>\n",
       "      <td>232</td>\n",
       "    </tr>\n",
       "    <tr>\n",
       "      <th>Fri</th>\n",
       "      <td>1</td>\n",
       "      <td>6</td>\n",
       "      <td>7</td>\n",
       "      <td>142</td>\n",
       "    </tr>\n",
       "  </tbody>\n",
       "</table>\n",
       "</div>"
      ],
      "text/plain": [
       "       Almond Butter  Peanut Butter  Cashew Butter  Total ($) \n",
       "Mon               12             15              0         240\n",
       "Tues               3              3              7         138\n",
       "Wed                9             19             18         458\n",
       "Thurs              4              6             12         232\n",
       "Fri                1              6              7         142"
      ]
     },
     "execution_count": 67,
     "metadata": {},
     "output_type": "execute_result"
    }
   ],
   "source": [
    "sales[\"Total ($) \"] = daily_sales.T\n",
    "sales"
   ]
  },
  {
   "cell_type": "markdown",
   "id": "6bf1be80",
   "metadata": {},
   "source": [
    "### Comparision Operators in Numpy"
   ]
  },
  {
   "cell_type": "code",
   "execution_count": 69,
   "id": "d16eed3a",
   "metadata": {},
   "outputs": [
    {
     "data": {
      "text/plain": [
       "array([8, 1, 5, 9, 8])"
      ]
     },
     "execution_count": 69,
     "metadata": {},
     "output_type": "execute_result"
    }
   ],
   "source": [
    "arr1 = np.random.randint(10 , size=(5))\n",
    "arr1"
   ]
  },
  {
   "cell_type": "code",
   "execution_count": 70,
   "id": "e1ebc079",
   "metadata": {},
   "outputs": [
    {
     "data": {
      "text/plain": [
       "array([[9, 4, 3, 0, 3],\n",
       "       [5, 0, 2, 3, 8]])"
      ]
     },
     "execution_count": 70,
     "metadata": {},
     "output_type": "execute_result"
    }
   ],
   "source": [
    "arr2 = np.random.randint(10 ,size=(2,5))\n",
    "arr2"
   ]
  },
  {
   "cell_type": "code",
   "execution_count": 71,
   "id": "4a9a8eb0",
   "metadata": {},
   "outputs": [
    {
     "data": {
      "text/plain": [
       "array([[False, False,  True,  True,  True],\n",
       "       [ True,  True,  True,  True, False]])"
      ]
     },
     "execution_count": 71,
     "metadata": {},
     "output_type": "execute_result"
    }
   ],
   "source": [
    "arr1 > arr2"
   ]
  },
  {
   "cell_type": "code",
   "execution_count": 73,
   "id": "2bbdde86",
   "metadata": {},
   "outputs": [
    {
     "data": {
      "text/plain": [
       "array([[False, False,  True,  True,  True],\n",
       "       [ True,  True,  True,  True,  True]])"
      ]
     },
     "execution_count": 73,
     "metadata": {},
     "output_type": "execute_result"
    }
   ],
   "source": [
    "bool_array = arr1 >= arr2\n",
    "bool_array"
   ]
  },
  {
   "cell_type": "code",
   "execution_count": 74,
   "id": "bef101db",
   "metadata": {},
   "outputs": [
    {
     "data": {
      "text/plain": [
       "(numpy.ndarray, dtype('bool'))"
      ]
     },
     "execution_count": 74,
     "metadata": {},
     "output_type": "execute_result"
    }
   ],
   "source": [
    "type(bool_array) , bool_array.dtype"
   ]
  },
  {
   "cell_type": "code",
   "execution_count": 75,
   "id": "39e17dca",
   "metadata": {},
   "outputs": [],
   "source": [
    "# So the type of bool_array is an ndarray where as the data in it is of type bool"
   ]
  },
  {
   "cell_type": "code",
   "execution_count": 76,
   "id": "c0d72267",
   "metadata": {},
   "outputs": [
    {
     "data": {
      "text/plain": [
       "array([ True, False, False,  True,  True])"
      ]
     },
     "execution_count": 76,
     "metadata": {},
     "output_type": "execute_result"
    }
   ],
   "source": [
    "arr1 > 5"
   ]
  },
  {
   "cell_type": "code",
   "execution_count": 77,
   "id": "c7be4365",
   "metadata": {},
   "outputs": [
    {
     "data": {
      "text/plain": [
       "array([False, False,  True, False, False])"
      ]
     },
     "execution_count": 77,
     "metadata": {},
     "output_type": "execute_result"
    }
   ],
   "source": [
    "arr1 == 5"
   ]
  },
  {
   "cell_type": "code",
   "execution_count": 78,
   "id": "c08d090a",
   "metadata": {},
   "outputs": [
    {
     "data": {
      "text/plain": [
       "array([[False, False, False, False, False],\n",
       "       [False, False, False, False,  True]])"
      ]
     },
     "execution_count": 78,
     "metadata": {},
     "output_type": "execute_result"
    }
   ],
   "source": [
    "arr1 == arr2"
   ]
  },
  {
   "cell_type": "code",
   "execution_count": 79,
   "id": "f54a8884",
   "metadata": {},
   "outputs": [],
   "source": [
    "#### These are all elemetwise comparision . Lookup for more in numpy documentation"
   ]
  },
  {
   "cell_type": "markdown",
   "id": "5c164c49",
   "metadata": {},
   "source": [
    "### Sorting an Numpy array"
   ]
  },
  {
   "cell_type": "code",
   "execution_count": 83,
   "id": "3421703e",
   "metadata": {},
   "outputs": [
    {
     "data": {
      "text/plain": [
       "array([[5, 0, 3, 3, 7],\n",
       "       [9, 3, 5, 2, 4],\n",
       "       [7, 6, 8, 8, 1]])"
      ]
     },
     "execution_count": 83,
     "metadata": {},
     "output_type": "execute_result"
    }
   ],
   "source": [
    "np.random.seed(0)\n",
    "random_array = np.random.randint(10 , size=(3,5))\n",
    "random_array"
   ]
  },
  {
   "cell_type": "code",
   "execution_count": 84,
   "id": "cf514760",
   "metadata": {},
   "outputs": [
    {
     "data": {
      "text/plain": [
       "array([[0, 3, 3, 5, 7],\n",
       "       [2, 3, 4, 5, 9],\n",
       "       [1, 6, 7, 8, 8]])"
      ]
     },
     "execution_count": 84,
     "metadata": {},
     "output_type": "execute_result"
    }
   ],
   "source": [
    "np.sort(random_array)"
   ]
  },
  {
   "cell_type": "code",
   "execution_count": 86,
   "id": "a00b8c65",
   "metadata": {},
   "outputs": [
    {
     "data": {
      "text/plain": [
       "array([[1, 2, 3, 0, 4],\n",
       "       [3, 1, 4, 2, 0],\n",
       "       [4, 1, 0, 2, 3]], dtype=int64)"
      ]
     },
     "execution_count": 86,
     "metadata": {},
     "output_type": "execute_result"
    }
   ],
   "source": [
    "# To sort the index like which index value should come first we use argsort\n",
    "np.argsort(random_array)"
   ]
  },
  {
   "cell_type": "code",
   "execution_count": 88,
   "id": "e2d2c776",
   "metadata": {},
   "outputs": [
    {
     "data": {
      "text/plain": [
       "(array([1, 3, 4], dtype=int64), array([4, 0, 2], dtype=int64))"
      ]
     },
     "execution_count": 88,
     "metadata": {},
     "output_type": "execute_result"
    }
   ],
   "source": [
    "# To sort on the basis of column\n",
    "np.argmin(random_array , axis=1) , np.argmax(random_array , axis=1)"
   ]
  },
  {
   "cell_type": "markdown",
   "id": "9e4622b7",
   "metadata": {},
   "source": [
    "###  Numpy Practical implimentation ( Via Images to Number )"
   ]
  },
  {
   "cell_type": "markdown",
   "id": "42e8f5c8",
   "metadata": {},
   "source": [
    "<img src = \"panda.png\" />"
   ]
  },
  {
   "cell_type": "code",
   "execution_count": 93,
   "id": "75a7cbf1",
   "metadata": {},
   "outputs": [],
   "source": [
    "from matplotlib.image import imread"
   ]
  },
  {
   "cell_type": "code",
   "execution_count": 94,
   "id": "8e5e38d5",
   "metadata": {},
   "outputs": [],
   "source": [
    "panda = imread(\"panda.png\")"
   ]
  },
  {
   "cell_type": "code",
   "execution_count": 95,
   "id": "ceb0bd1b",
   "metadata": {},
   "outputs": [
    {
     "data": {
      "text/plain": [
       "numpy.ndarray"
      ]
     },
     "execution_count": 95,
     "metadata": {},
     "output_type": "execute_result"
    }
   ],
   "source": [
    "type(panda)"
   ]
  },
  {
   "cell_type": "code",
   "execution_count": 96,
   "id": "78c07eac",
   "metadata": {},
   "outputs": [
    {
     "data": {
      "text/plain": [
       "(24465000, (2330, 3500, 3), 3)"
      ]
     },
     "execution_count": 96,
     "metadata": {},
     "output_type": "execute_result"
    }
   ],
   "source": [
    "panda.size, panda.shape , panda.ndim"
   ]
  },
  {
   "cell_type": "code",
   "execution_count": 97,
   "id": "562e2cbd",
   "metadata": {
    "scrolled": true
   },
   "outputs": [
    {
     "name": "stdout",
     "output_type": "stream",
     "text": [
      "<class 'numpy.ndarray'>\n"
     ]
    }
   ],
   "source": [
    "print(type(panda))"
   ]
  }
 ],
 "metadata": {
  "kernelspec": {
   "display_name": "Python 3",
   "language": "python",
   "name": "python3"
  },
  "language_info": {
   "codemirror_mode": {
    "name": "ipython",
    "version": 3
   },
   "file_extension": ".py",
   "mimetype": "text/x-python",
   "name": "python",
   "nbconvert_exporter": "python",
   "pygments_lexer": "ipython3",
   "version": "3.9.5"
  }
 },
 "nbformat": 4,
 "nbformat_minor": 5
}
