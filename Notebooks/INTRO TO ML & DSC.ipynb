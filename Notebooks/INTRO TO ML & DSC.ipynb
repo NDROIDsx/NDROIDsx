{
 "cells": [
  {
   "cell_type": "markdown",
   "id": "ee7fa9a9",
   "metadata": {},
   "source": [
    "### WHAT IS MACHINE LEARNING"
   ]
  },
  {
   "cell_type": "markdown",
   "id": "bd98044d",
   "metadata": {},
   "source": [
    "Machine learning helps us to make a machine do things without explicitly programming it to do so. Machine made to think like a human and match human cognition."
   ]
  },
  {
   "cell_type": "markdown",
   "id": "ebeb4614",
   "metadata": {},
   "source": [
    "### Aritificial Inteligence"
   ]
  },
  {
   "cell_type": "markdown",
   "id": "422be39c",
   "metadata": {},
   "source": [
    "Machine acting like human or having intelligence like human . We currently have narrow AI which means each machine is good at only one thing and not all like humans. This would be called genral AI."
   ]
  },
  {
   "cell_type": "markdown",
   "id": "b89196f9",
   "metadata": {},
   "source": [
    "### Deep Learning "
   ]
  },
  {
   "cell_type": "markdown",
   "id": "195feacc",
   "metadata": {},
   "source": [
    "Using deep neural network to achive machine learning."
   ]
  },
  {
   "cell_type": "markdown",
   "id": "09ae93ca",
   "metadata": {},
   "source": [
    "### Data Science "
   ]
  },
  {
   "cell_type": "markdown",
   "id": "7c6147f2",
   "metadata": {},
   "source": [
    "Using tools and programs to draw insights from data and analyse the data for our own benefit."
   ]
  },
  {
   "cell_type": "markdown",
   "id": "89f4c3cc",
   "metadata": {},
   "source": [
    "    Data Analysis :- Visualising and figuring out what data says. Understanding data and comparing it."
   ]
  },
  {
   "cell_type": "markdown",
   "id": "098f67ba",
   "metadata": {},
   "source": [
    "    Machine Learning in DSC :- Experiments run on data to find possible insights in the data"
   ]
  },
  {
   "cell_type": "markdown",
   "id": "b4363c79",
   "metadata": {},
   "source": [
    "### Why data science ?\n"
   ]
  },
  {
   "cell_type": "markdown",
   "id": "fac29924",
   "metadata": {},
   "source": [
    "As data began to grow exponentially people felt an urge to have someone use machine to analyse the Big data and draw insights from it. It was no longer possible to sit infront of the excel sheet and go throw millions of rows to analyse data."
   ]
  },
  {
   "cell_type": "markdown",
   "id": "8a593129",
   "metadata": {},
   "source": [
    "### Types of Machine Learning "
   ]
  },
  {
   "cell_type": "markdown",
   "id": "7c5604e0",
   "metadata": {},
   "source": [
    "1. Supervised Learning :- Data has a label to classify itself different from a data. For eg. using photo of apple as a data and labelling the photo as Apple to make ML algorithm identify it as a class / Categoty called Apple. \n",
    "2. Unsupervised Learning :- Only data is fed and no label is provided to classify it. In this case the ML algo gives this a group instead of a label. For eg if we provide input as animal photo then it make cats as group 1 dogs as group 2 without actually knowing wether its a dog or cat.\n",
    "3. Reinforcement Learning :- Getting reward for good outcome and penalty for bad outcome. This can be used for AI to train play games where if the peron dies the score will be reduced. Hence the goal of the machine will be to score as much as it can.\n",
    "4. Transfer Learning :- Using learning of other machine which have already indeitifed some categories and import for our use so that our machine doesnt require to learn it all over again."
   ]
  },
  {
   "cell_type": "markdown",
   "id": "8e988292",
   "metadata": {},
   "source": [
    "In machine learning we have input and we have output. We train the machine to say this is the input and this is the corresponding output, now based on this find patterns and when new data is fed using this patters predict what it is."
   ]
  },
  {
   "cell_type": "markdown",
   "id": "cd65d11f",
   "metadata": {},
   "source": [
    "### ML FRAMEWORK\n",
    "\n",
    "### Types of problems "
   ]
  },
  {
   "cell_type": "markdown",
   "id": "759f0fc9",
   "metadata": {},
   "source": [
    "1. Classification Problem :- Binary class ( only 2 category ) | Multi class"
   ]
  },
  {
   "cell_type": "markdown",
   "id": "46069a18",
   "metadata": {},
   "source": [
    "2. Regression Problem :- Guess a number."
   ]
  },
  {
   "cell_type": "markdown",
   "id": "dc8c0766",
   "metadata": {},
   "source": [
    "### Types of Data "
   ]
  },
  {
   "cell_type": "markdown",
   "id": "95f37aef",
   "metadata": {},
   "source": [
    "1. Structured Data :- Excel and csv ( comma seperated values )"
   ]
  },
  {
   "cell_type": "markdown",
   "id": "f0f32a7a",
   "metadata": {},
   "source": [
    "2. Unstructed Data :- Images, audio, transcibed call, videos etc."
   ]
  },
  {
   "cell_type": "markdown",
   "id": "4040a438",
   "metadata": {},
   "source": [
    "3. Staic Data :- Doesnot change over time . "
   ]
  },
  {
   "cell_type": "markdown",
   "id": "e8d1e019",
   "metadata": {},
   "source": [
    "4. Streaming Data :- Changes over time. Eg predicting stock prices."
   ]
  },
  {
   "cell_type": "markdown",
   "id": "25dbaee1",
   "metadata": {},
   "source": [
    "### Evaluation Metric\n",
    "\n",
    "\n",
    "![](Images/TYPES-OF-DATA-ANALYTICS.png)"
   ]
  },
  {
   "cell_type": "markdown",
   "id": "83d33b3e",
   "metadata": {},
   "source": [
    "![](Images/EVALUTION_METRIC.png)"
   ]
  },
  {
   "cell_type": "markdown",
   "id": "f781d396",
   "metadata": {},
   "source": [
    "We will define what sucess means to us and what sucess rate we require."
   ]
  },
  {
   "cell_type": "markdown",
   "id": "93081bcd",
   "metadata": {},
   "source": [
    "### Features of data"
   ]
  },
  {
   "cell_type": "markdown",
   "id": "705287bd",
   "metadata": {},
   "source": [
    "If something helps in predicting the output it is classified as feature of a data."
   ]
  },
  {
   "cell_type": "markdown",
   "id": "bf5d1a2b",
   "metadata": {},
   "source": [
    "We have feature variable used to predict the Target variable. We also have a User defiend feature where we create a feature using existing one.\n"
   ]
  },
  {
   "cell_type": "markdown",
   "id": "6649ae5e",
   "metadata": {},
   "source": [
    "We have categorical and numerical feature variable.\n"
   ]
  },
  {
   "cell_type": "markdown",
   "id": "270f439b",
   "metadata": {},
   "source": [
    "In case of unstructured data the feature is less visible but can be see as the circle representing the head of a dog as a feature."
   ]
  },
  {
   "cell_type": "markdown",
   "id": "2a33d084",
   "metadata": {},
   "source": [
    "Feature works best when all the sample have the feature . This called Feature Coverage ."
   ]
  },
  {
   "cell_type": "markdown",
   "id": "2a169a27",
   "metadata": {},
   "source": [
    "### Modeling"
   ]
  },
  {
   "cell_type": "markdown",
   "id": "df1eab62",
   "metadata": {},
   "source": [
    "1. Splitting data :- Data is split into 3 part , namely , Training set - Validation set - Test Set.\n",
    "2. Picking Model :- Check different model and compare which one is best for the problem wrt Time & Sucess rate.\n",
    "3. Fine tuning model :- Adjusting hyperparameters in a model to get better results . Done on validation set or sometimes on the training set but never on the test set as if model sees the test set then naturally it will predict better and there will be no real use of training. Just like if all of us were allowed to see the end sem paper beforehand. It would result in no learning only memorisation.\n"
   ]
  },
  {
   "cell_type": "markdown",
   "id": "36a2d06d",
   "metadata": {},
   "source": [
    "### Testing a model"
   ]
  },
  {
   "cell_type": "markdown",
   "id": "0e75370f",
   "metadata": {},
   "source": [
    "Overfiting :- Model predicting with more accuracy than training set. Its like almost too perfect of a model which is not possible. Just like seeing the final test. Caused due to data leakage from test set to training set. Can be fixed using more advanced model which helps in increasing number of patterns to be recognised or use a less advnaced model."
   ]
  },
  {
   "cell_type": "markdown",
   "id": "d182f1b7",
   "metadata": {},
   "source": [
    "Underfitting :- Model underperforms on the test set. caused due to data mismatch which means training set feature are different from the test set. Can be solved using more advanced model or tuning / increasing hyperparamters , reduce the amount of features maybe the model is struggling to find features, or take more time for training."
   ]
  },
  {
   "cell_type": "markdown",
   "id": "b778bc59",
   "metadata": {},
   "source": [
    "Model should always tend to genrality and should not overfit or undefit."
   ]
  },
  {
   "cell_type": "markdown",
   "id": "7ab975c1",
   "metadata": {},
   "source": [
    "Data split for training validation and test is important."
   ]
  },
  {
   "cell_type": "markdown",
   "id": "34b5f73c",
   "metadata": {},
   "source": [
    "Which model to choose will depend on what u want faster prediction or better accuracy."
   ]
  },
  {
   "cell_type": "markdown",
   "id": "f28e9cab",
   "metadata": {},
   "source": [
    "### Now the above steps are repeated as we know ML & DSC are a highly iterative process and takes time to get the desired or statisfactory result."
   ]
  }
 ],
 "metadata": {
  "kernelspec": {
   "display_name": "Python 3",
   "language": "python",
   "name": "python3"
  },
  "language_info": {
   "codemirror_mode": {
    "name": "ipython",
    "version": 3
   },
   "file_extension": ".py",
   "mimetype": "text/x-python",
   "name": "python",
   "nbconvert_exporter": "python",
   "pygments_lexer": "ipython3",
   "version": "3.9.5"
  }
 },
 "nbformat": 4,
 "nbformat_minor": 5
}
